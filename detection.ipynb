{
 "cells": [
  {
   "cell_type": "code",
   "execution_count": 3,
   "metadata": {
    "collapsed": true
   },
   "outputs": [],
   "source": [
    "import csv\n",
    "import math\n",
    "\n",
    "from PIL import Image\n",
    "import numpy as np\n",
    "import tensorflow as tf\n",
    "from keras import Model\n",
    "from keras.applications.mobilenet_v2 import MobileNetV2, preprocess_input\n",
    "from keras.callbacks import ModelCheckpoint, EarlyStopping, ReduceLROnPlateau, Callback\n",
    "from keras.layers import Conv2D, Reshape, Dense, GlobalAveragePooling2D\n",
    "from keras.utils import Sequence\n",
    "from keras.optimizers import Adam\n",
    "from keras.backend import epsilon\n"
   ]
  },
  {
   "cell_type": "code",
   "execution_count": 66,
   "metadata": {
    "collapsed": true
   },
   "outputs": [],
   "source": [
    "# 0.35, 0.5, 0.75, 1.0\n",
    "ALPHA = 1.0\n",
    "\n",
    "# 96, 128, 160, 192, 224\n",
    "IMAGE_SIZE = 96\n",
    "\n",
    "EPOCHS = 200\n",
    "BATCH_SIZE = 1\n",
    "PATIENCE = 50\n",
    "\n",
    "MULTI_PROCESSING = True\n",
    "THREADS = 4\n",
    "TRAIN_CSV = \"./tbtrain.csv\"\n",
    "CLASSES=2"
   ]
  },
  {
   "cell_type": "code",
   "execution_count": 73,
   "metadata": {
    "collapsed": true
   },
   "outputs": [],
   "source": [
    "class DataGenerator(Sequence):\n",
    "\n",
    "    def __init__(self, csv_file):\n",
    "        self.paths = []\n",
    "        with open(csv_file, \"r\") as file:\n",
    "            self.coords = np.zeros((sum(1 for line in file), 4 + CLASSES))\n",
    "            file.seek(0)\n",
    "            reader = csv.reader(file, delimiter=\",\")\n",
    "            for index, row in enumerate(reader):\n",
    "                for i, r in enumerate(row[1:7]):\n",
    "                    row[i+1] = int(r)\n",
    "                    \n",
    "                path, image_height, image_width, x0, y0, x1, y1, _, class_id = row\n",
    "                self.coords[index, min(4 + int(class_id), self.coords.shape[1]-1)] = 1\n",
    "                try:\n",
    "                    \n",
    "                    self.coords[index, 0] = x0 * IMAGE_SIZE / image_width\n",
    "                    self.coords[index, 1] = y0 * IMAGE_SIZE / image_height\n",
    "                    self.coords[index, 2] = (x1 - x0) * IMAGE_SIZE / image_width\n",
    "                    self.coords[index, 3] = (y1 - y0) * IMAGE_SIZE / image_height \n",
    "                   \n",
    "                except:\n",
    "                    self.coords[index, 0] = 0\n",
    "                    self.coords[index, 1] = 0\n",
    "                    self.coords[index, 2] = 0\n",
    "                    self.coords[index, 3] = 0\n",
    "                self.paths.append(path)\n",
    "        print(len(self.coords),self.paths)\n",
    "\n",
    "    def __len__(self):\n",
    "        return math.ceil(len(self.coords) / BATCH_SIZE)\n",
    "\n",
    "    def __getitem__(self, idx):\n",
    "        batch_paths = self.paths[idx * BATCH_SIZE:(idx + 1) * BATCH_SIZE]\n",
    "        batch_coords = self.coords[idx * BATCH_SIZE:(idx + 1) * BATCH_SIZE]\n",
    "\n",
    "        batch_images = np.zeros((len(batch_paths), IMAGE_SIZE, IMAGE_SIZE, 3), dtype=np.float32)\n",
    "        for i, f in enumerate(batch_paths):\n",
    "            img = Image.open(f)\n",
    "            img = img.resize((IMAGE_SIZE, IMAGE_SIZE))\n",
    "            img = img.convert('RGB')\n",
    "\n",
    "            batch_images[i] = preprocess_input(np.array(img, dtype=np.float32))\n",
    "            img.close()\n",
    "\n",
    "        return batch_images, [batch_coords[...,:4], batch_coords[...,4:]]"
   ]
  },
  {
   "cell_type": "code",
   "execution_count": 82,
   "metadata": {
    "collapsed": true
   },
   "outputs": [],
   "source": [
    "def create_model(trainable=False):\n",
    "    model = MobileNetV2(input_shape=(IMAGE_SIZE, IMAGE_SIZE, 3), include_top=False, alpha=ALPHA)\n",
    "\n",
    "    # to freeze layers\n",
    "    for layer in model.layers:\n",
    "        layer.trainable = trainable\n",
    "    model.layers[-2].trainable=True\n",
    "    model.layers[-1].trainable=True\n",
    "    out = model.layers[-1].output\n",
    "\n",
    "    x = Conv2D(4, kernel_size=3)(out)\n",
    "    x = Reshape((4,), name=\"coords\")(x)\n",
    "\n",
    "    y = GlobalAveragePooling2D()(out)\n",
    "    y = Dense(CLASSES, name=\"classes\", activation=\"softmax\")(y)\n",
    "\n",
    "    return Model(inputs=model.input, outputs=[x, y])"
   ]
  },
  {
   "cell_type": "code",
   "execution_count": 83,
   "metadata": {
    "collapsed": true
   },
   "outputs": [],
   "source": [
    "def log_mse(y_true, y_pred):\n",
    "    return tf.reduce_mean(tf.log1p(tf.squared_difference(y_pred, y_true)), axis=-1)\n",
    "\n",
    "def focal_loss(alpha=0.9, gamma=2):\n",
    "      def focal_loss_with_logits(logits, targets, alpha, gamma, y_pred):\n",
    "        weight_a = alpha * (1 - y_pred) ** gamma * targets\n",
    "        weight_b = (1 - alpha) * y_pred ** gamma * (1 - targets)\n",
    "    \n",
    "    \n",
    "        return (tf.log1p(tf.exp(-tf.abs(logits))) + tf.nn.relu(-logits)) * (weight_a + weight_b) + logits * weight_b \n",
    "\n",
    "      def loss(y_true, y_pred):\n",
    "        y_pred = tf.clip_by_value(y_pred, tf.keras.backend.epsilon(), 1 - tf.keras.backend.epsilon())\n",
    "        logits = tf.log(y_pred / (1 - y_pred))\n",
    "\n",
    "        loss = focal_loss_with_logits(logits=logits, targets=y_true, alpha=alpha, gamma=gamma, y_pred=y_pred)\n",
    "\n",
    "        return tf.reduce_mean(loss)\n",
    "\n",
    "      return loss"
   ]
  },
  {
   "cell_type": "code",
   "execution_count": 84,
   "metadata": {
    "collapsed": true
   },
   "outputs": [],
   "source": [
    "model = create_model()\n",
    "# model.summary()\n",
    "\n"
   ]
  },
  {
   "cell_type": "code",
   "execution_count": 29,
   "metadata": {
    "collapsed": true
   },
   "outputs": [],
   "source": [
    "# import pandas as pd\n",
    "# df = pd.read_csv('tbtrain.csv')\n",
    "# df.head()"
   ]
  },
  {
   "cell_type": "code",
   "execution_count": 85,
   "metadata": {},
   "outputs": [
    {
     "name": "stdout",
     "output_type": "stream",
     "text": [
      "98 ['./tb images/Anomaly/anomaly1.jpeg', './tb images/Anomaly/anomaly2.jpeg', './tb images/Anomaly/anomaly3.jpeg', './tb images/Anomaly/anomaly4.jpeg', './tb images/Anomaly/anomaly5.jpeg', './tb images/Anomaly/anomaly6.jpeg', './tb images/Anomaly/anomaly7.jpeg', './tb images/Anomaly/anomaly9.jpeg', './tb images/Anomaly/anomaly10.jpeg', './tb images/Anomaly/anomaly11.jpeg', './tb images/Anomaly/anomaly12.jpeg', './tb images/Anomaly/anomaly13.jpeg', './tb images/Anomaly/anomaly14.jpeg', './tb images/Anomaly/anomaly15.jpeg', './tb images/Anomaly/anomaly16.jpeg', './tb images/Anomaly/anomaly17.jpeg', './tb images/Anomaly/anomaly18.jpeg', './tb images/Anomaly/anomaly19.jpeg', './tb images/Anomaly/anomaly20.jpeg', './tb images/Anomaly/anomaly21.jpeg', './tb images/Anomaly/anomaly22.jpeg', './tb images/Anomaly/anomaly23.jpeg', './tb images/Anomaly/anomaly24.jpeg', './tb images/Anomaly/anomaly25.jpeg', './tb images/Anomaly/anomaly26.jpeg', './tb images/Anomaly/anomaly27.jpeg', './tb images/Anomaly/anomaly28.jpeg', './tb images/Anomaly/anomaly29.jpeg', './tb images/Anomaly/anomaly30.jpeg', './tb images/Anomaly/anomaly31.jpeg', './tb images/Anomaly/anomaly32.jpeg', './tb images/Anomaly/anomaly33.jpeg', './tb images/Anomaly/anomaly34.jpeg', './tb images/Anomaly/anomaly35.jpeg', './tb images/Anomaly/anomaly36.jpeg', './tb images/Anomaly/anomaly37.jpeg', './tb images/Anomaly/anomaly38.jpeg', './tb images/Anomaly/anomaly39.jpeg', './tb images/Anomaly/anomaly40.jpeg', './tb images/Anomaly/anomaly41.jpeg', './tb images/Anomaly/anomaly42.jpeg', './tb images/Anomaly/anomaly43.jpeg', './tb images/Anomaly/anomaly44.jpeg', './tb images/Anomaly/anomaly45.jpeg', './tb images/Anomaly/anomaly46.jpeg', './tb images/Anomaly/anomaly47.jpeg', './tb images/Anomaly/anomaly48.jpeg', './tb images/Anomaly/anomaly49.jpeg', './tb images/Anomaly/anomaly50.jpeg', './tb images/Anomaly/anomaly51.jpeg', './tb images/Normal/normal1.png', './tb images/Normal/normal2.png', './tb images/Normal/normal3.jpg', './tb images/Normal/normal4.jpg', './tb images/Normal/normal5.jpg', './tb images/Normal/normal6.png', './tb images/Normal/normal7.jpg', './tb images/Normal/normal8.jpg', './tb images/Normal/normal9.jpeg', './tb images/Normal/normal10.jpeg', './tb images/Normal/normal11.jpeg', './tb images/Normal/normal12.jpeg', './tb images/Normal/normal13.jpeg', './tb images/Normal/normal14.jpeg', './tb images/Normal/normal15.jpeg', './tb images/Normal/normal16.jpeg', './tb images/Normal/normal17.jpeg', './tb images/Normal/normal18.jpeg', './tb images/Normal/normal19.jpeg', './tb images/Normal/normal20.jpeg', './tb images/Normal/normal21.jpeg', './tb images/Normal/normal22.jpeg', './tb images/Normal/normal23.jpeg', './tb images/Normal/normal24.jpeg', './tb images/Normal/normal25.jpeg', './tb images/Normal/normal26.jpeg', './tb images/Normal/normal27.jpeg', './tb images/Normal/normal28.jpeg', './tb images/Normal/normal29.jpeg', './tb images/Normal/normal30.jpeg', './tb images/Normal/normal31.jpeg', './tb images/Normal/normal32.jpeg', './tb images/Normal/normal33.jpeg', './tb images/Normal/normal34.jpeg', './tb images/Normal/normal35.jpeg', './tb images/Normal/normal36.jpeg', './tb images/Normal/normal37.jpeg', './tb images/Normal/normal38.jpeg', './tb images/Normal/normal39.jpeg', './tb images/Normal/normal40.jpeg', './tb images/Normal/normal41.jpeg', './tb images/Normal/normal42.jpeg', './tb images/Normal/normal43.jpeg', './tb images/Normal/normal44.jpeg', './tb images/Normal/normal45.jpeg', './tb images/Normal/normal46.jpeg', './tb images/Normal/normal47.jpeg', './tb images/Normal/normal48.jpeg']\n"
     ]
    }
   ],
   "source": [
    "train_datagen = DataGenerator(TRAIN_CSV)"
   ]
  },
  {
   "cell_type": "code",
   "execution_count": 88,
   "metadata": {
    "collapsed": true
   },
   "outputs": [],
   "source": [
    "\n",
    "# validation_datagen = Validation(generator=DataGenerator(VALIDATION_CSV))\n",
    "\n",
    "\n",
    "\n",
    "optimizer = Adam(lr=1e-2, beta_1=0.9, beta_2=0.999, epsilon=None, decay=0.1, amsgrad=False)\n",
    "model.compile(loss={\"coords\" : log_mse, \"classes\" : focal_loss()}, loss_weights={\"coords\" : 2, \"classes\" : 1}, optimizer=optimizer, metrics=[])"
   ]
  },
  {
   "cell_type": "code",
   "execution_count": 89,
   "metadata": {},
   "outputs": [
    {
     "data": {
      "text/html": [
       "<div>\n",
       "<style>\n",
       "    .dataframe thead tr:only-child th {\n",
       "        text-align: right;\n",
       "    }\n",
       "\n",
       "    .dataframe thead th {\n",
       "        text-align: left;\n",
       "    }\n",
       "\n",
       "    .dataframe tbody tr th {\n",
       "        vertical-align: top;\n",
       "    }\n",
       "</style>\n",
       "<table border=\"1\" class=\"dataframe\">\n",
       "  <thead>\n",
       "    <tr style=\"text-align: right;\">\n",
       "      <th></th>\n",
       "      <th>./tb images/Anomaly/anomaly1.jpeg</th>\n",
       "      <th>1798</th>\n",
       "      <th>2637</th>\n",
       "      <th>317</th>\n",
       "      <th>659</th>\n",
       "      <th>711</th>\n",
       "      <th>964</th>\n",
       "      <th>anomaly</th>\n",
       "      <th>1</th>\n",
       "    </tr>\n",
       "  </thead>\n",
       "  <tbody>\n",
       "    <tr>\n",
       "      <th>0</th>\n",
       "      <td>./tb images/Anomaly/anomaly2.jpeg</td>\n",
       "      <td>1831</td>\n",
       "      <td>2569</td>\n",
       "      <td>1928</td>\n",
       "      <td>870</td>\n",
       "      <td>2357</td>\n",
       "      <td>1141</td>\n",
       "      <td>anomaly</td>\n",
       "      <td>1</td>\n",
       "    </tr>\n",
       "    <tr>\n",
       "      <th>1</th>\n",
       "      <td>./tb images/Anomaly/anomaly3.jpeg</td>\n",
       "      <td>1725</td>\n",
       "      <td>2663</td>\n",
       "      <td>2006</td>\n",
       "      <td>651</td>\n",
       "      <td>2287</td>\n",
       "      <td>886</td>\n",
       "      <td>anomaly</td>\n",
       "      <td>1</td>\n",
       "    </tr>\n",
       "    <tr>\n",
       "      <th>2</th>\n",
       "      <td>./tb images/Anomaly/anomaly4.jpeg</td>\n",
       "      <td>472</td>\n",
       "      <td>743</td>\n",
       "      <td>276</td>\n",
       "      <td>240</td>\n",
       "      <td>316</td>\n",
       "      <td>282</td>\n",
       "      <td>anomaly</td>\n",
       "      <td>1</td>\n",
       "    </tr>\n",
       "    <tr>\n",
       "      <th>3</th>\n",
       "      <td>./tb images/Anomaly/anomaly5.jpeg</td>\n",
       "      <td>472</td>\n",
       "      <td>743</td>\n",
       "      <td>274</td>\n",
       "      <td>190</td>\n",
       "      <td>317</td>\n",
       "      <td>229</td>\n",
       "      <td>anomaly</td>\n",
       "      <td>1</td>\n",
       "    </tr>\n",
       "    <tr>\n",
       "      <th>4</th>\n",
       "      <td>./tb images/Anomaly/anomaly6.jpeg</td>\n",
       "      <td>472</td>\n",
       "      <td>743</td>\n",
       "      <td>422</td>\n",
       "      <td>189</td>\n",
       "      <td>473</td>\n",
       "      <td>230</td>\n",
       "      <td>anomaly</td>\n",
       "      <td>1</td>\n",
       "    </tr>\n",
       "  </tbody>\n",
       "</table>\n",
       "</div>"
      ],
      "text/plain": [
       "   ./tb images/Anomaly/anomaly1.jpeg  1798  2637   317  659   711   964  \\\n",
       "0  ./tb images/Anomaly/anomaly2.jpeg  1831  2569  1928  870  2357  1141   \n",
       "1  ./tb images/Anomaly/anomaly3.jpeg  1725  2663  2006  651  2287   886   \n",
       "2  ./tb images/Anomaly/anomaly4.jpeg   472   743   276  240   316   282   \n",
       "3  ./tb images/Anomaly/anomaly5.jpeg   472   743   274  190   317   229   \n",
       "4  ./tb images/Anomaly/anomaly6.jpeg   472   743   422  189   473   230   \n",
       "\n",
       "   anomaly  1  \n",
       "0  anomaly  1  \n",
       "1  anomaly  1  \n",
       "2  anomaly  1  \n",
       "3  anomaly  1  \n",
       "4  anomaly  1  "
      ]
     },
     "execution_count": 89,
     "metadata": {},
     "output_type": "execute_result"
    }
   ],
   "source": [
    "import pandas as pd\n",
    "df=pd.read_csv(TRAIN_CSV)\n",
    "df.head()"
   ]
  },
  {
   "cell_type": "code",
   "execution_count": 90,
   "metadata": {},
   "outputs": [
    {
     "name": "stdout",
     "output_type": "stream",
     "text": [
      "Epoch 1/150\n",
      "98/98 [==============================] - 15s 150ms/step - loss: 10.1836 - coords_loss: 4.8016 - classes_loss: 0.5804\n",
      "Epoch 2/150\n",
      "98/98 [==============================] - 12s 124ms/step - loss: 9.7821 - coords_loss: 4.8436 - classes_loss: 0.0949\n",
      "Epoch 3/150\n",
      "98/98 [==============================] - 12s 125ms/step - loss: 9.3299 - coords_loss: 4.6319 - classes_loss: 0.0660\n",
      "Epoch 4/150\n",
      "98/98 [==============================] - 12s 127ms/step - loss: 9.0841 - coords_loss: 4.5123 - classes_loss: 0.0595\n",
      "Epoch 5/150\n",
      "98/98 [==============================] - 13s 130ms/step - loss: 8.6233 - coords_loss: 4.2848 - classes_loss: 0.0537\n",
      "Epoch 6/150\n",
      "98/98 [==============================] - 12s 127ms/step - loss: 8.0807 - coords_loss: 4.0129 - classes_loss: 0.0550\n",
      "Epoch 7/150\n",
      "98/98 [==============================] - 12s 127ms/step - loss: 7.5831 - coords_loss: 3.7639 - classes_loss: 0.0553\n",
      "Epoch 8/150\n",
      "98/98 [==============================] - 13s 128ms/step - loss: 7.1649 - coords_loss: 3.5579 - classes_loss: 0.0492\n",
      "Epoch 9/150\n",
      "98/98 [==============================] - 13s 130ms/step - loss: 6.7844 - coords_loss: 3.3686 - classes_loss: 0.0472\n",
      "Epoch 10/150\n",
      "98/98 [==============================] - 13s 132ms/step - loss: 6.3003 - coords_loss: 3.1270 - classes_loss: 0.0463\n",
      "Epoch 11/150\n",
      "98/98 [==============================] - 13s 128ms/step - loss: 6.0503 - coords_loss: 3.0019 - classes_loss: 0.0465\n",
      "Epoch 12/150\n",
      "98/98 [==============================] - 12s 125ms/step - loss: 5.8741 - coords_loss: 2.9150 - classes_loss: 0.0441\n",
      "Epoch 13/150\n",
      "98/98 [==============================] - 12s 125ms/step - loss: 5.7285 - coords_loss: 2.8420 - classes_loss: 0.0445\n",
      "Epoch 14/150\n",
      "98/98 [==============================] - 13s 128ms/step - loss: 5.5773 - coords_loss: 2.7676 - classes_loss: 0.0421\n",
      "Epoch 15/150\n",
      "98/98 [==============================] - 13s 134ms/step - loss: 5.4463 - coords_loss: 2.7023 - classes_loss: 0.0418\n",
      "Epoch 16/150\n",
      "98/98 [==============================] - 12s 126ms/step - loss: 5.3011 - coords_loss: 2.6291 - classes_loss: 0.0429\n",
      "Epoch 17/150\n",
      "98/98 [==============================] - 12s 123ms/step - loss: 5.2063 - coords_loss: 2.5834 - classes_loss: 0.0395\n",
      "Epoch 18/150\n",
      "98/98 [==============================] - 12s 121ms/step - loss: 5.1192 - coords_loss: 2.5395 - classes_loss: 0.0403\n",
      "Epoch 19/150\n",
      "98/98 [==============================] - 12s 121ms/step - loss: 5.0326 - coords_loss: 2.4968 - classes_loss: 0.0391\n",
      "Epoch 20/150\n",
      "98/98 [==============================] - 12s 121ms/step - loss: 4.9431 - coords_loss: 2.4526 - classes_loss: 0.0379\n",
      "Epoch 21/150\n",
      "98/98 [==============================] - 12s 124ms/step - loss: 4.8748 - coords_loss: 2.4182 - classes_loss: 0.0383\n",
      "Epoch 22/150\n",
      "98/98 [==============================] - 13s 134ms/step - loss: 4.8175 - coords_loss: 2.3903 - classes_loss: 0.0370\n",
      "Epoch 23/150\n",
      "98/98 [==============================] - 13s 133ms/step - loss: 4.7591 - coords_loss: 2.3612 - classes_loss: 0.0368\n",
      "Epoch 24/150\n",
      "98/98 [==============================] - 13s 129ms/step - loss: 4.7000 - coords_loss: 2.3319 - classes_loss: 0.0362\n",
      "Epoch 25/150\n",
      "98/98 [==============================] - 12s 128ms/step - loss: 4.6470 - coords_loss: 2.3057 - classes_loss: 0.0357\n",
      "Epoch 26/150\n",
      "98/98 [==============================] - 13s 129ms/step - loss: 4.6101 - coords_loss: 2.2872 - classes_loss: 0.0356\n",
      "Epoch 27/150\n",
      "98/98 [==============================] - 12s 126ms/step - loss: 4.5797 - coords_loss: 2.2722 - classes_loss: 0.0354\n",
      "Epoch 28/150\n",
      "98/98 [==============================] - 12s 127ms/step - loss: 4.5480 - coords_loss: 2.2568 - classes_loss: 0.0345\n",
      "Epoch 29/150\n",
      "98/98 [==============================] - 12s 128ms/step - loss: 4.5118 - coords_loss: 2.2384 - classes_loss: 0.0350\n",
      "Epoch 30/150\n",
      "98/98 [==============================] - 12s 126ms/step - loss: 4.4725 - coords_loss: 2.2192 - classes_loss: 0.0342\n",
      "Epoch 31/150\n",
      "98/98 [==============================] - 12s 127ms/step - loss: 4.4429 - coords_loss: 2.2044 - classes_loss: 0.0341\n",
      "Epoch 32/150\n",
      "98/98 [==============================] - 13s 133ms/step - loss: 4.4108 - coords_loss: 2.1886 - classes_loss: 0.0337\n",
      "Epoch 33/150\n",
      "98/98 [==============================] - 13s 131ms/step - loss: 4.3884 - coords_loss: 2.1775 - classes_loss: 0.0333\n",
      "Epoch 34/150\n",
      "98/98 [==============================] - 13s 137ms/step - loss: 4.3664 - coords_loss: 2.1668 - classes_loss: 0.0328\n",
      "Epoch 35/150\n",
      "98/98 [==============================] - 13s 137ms/step - loss: 4.3438 - coords_loss: 2.1555 - classes_loss: 0.0327\n",
      "Epoch 36/150\n",
      "98/98 [==============================] - 13s 136ms/step - loss: 4.3272 - coords_loss: 2.1473 - classes_loss: 0.0327\n",
      "Epoch 37/150\n",
      "98/98 [==============================] - 13s 134ms/step - loss: 4.3012 - coords_loss: 2.1344 - classes_loss: 0.0324\n",
      "Epoch 38/150\n",
      "98/98 [==============================] - 13s 130ms/step - loss: 4.2721 - coords_loss: 2.1202 - classes_loss: 0.0318\n",
      "Epoch 39/150\n",
      "98/98 [==============================] - 12s 127ms/step - loss: 4.2448 - coords_loss: 2.1063 - classes_loss: 0.0323\n",
      "Epoch 40/150\n",
      "98/98 [==============================] - 13s 128ms/step - loss: 4.2128 - coords_loss: 2.0907 - classes_loss: 0.0315\n",
      "Epoch 41/150\n",
      "98/98 [==============================] - 13s 128ms/step - loss: 4.1892 - coords_loss: 2.0789 - classes_loss: 0.0313\n",
      "Epoch 42/150\n",
      "98/98 [==============================] - 12s 123ms/step - loss: 4.1577 - coords_loss: 2.0634 - classes_loss: 0.0310\n",
      "Epoch 43/150\n",
      "98/98 [==============================] - 13s 128ms/step - loss: 4.1266 - coords_loss: 2.0480 - classes_loss: 0.0305\n",
      "Epoch 44/150\n",
      "98/98 [==============================] - 12s 126ms/step - loss: 4.0983 - coords_loss: 2.0340 - classes_loss: 0.0303\n",
      "Epoch 45/150\n",
      "98/98 [==============================] - 12s 126ms/step - loss: 4.0664 - coords_loss: 2.0179 - classes_loss: 0.0305\n",
      "Epoch 46/150\n",
      "98/98 [==============================] - 12s 126ms/step - loss: 4.0330 - coords_loss: 2.0015 - classes_loss: 0.0300\n",
      "Epoch 47/150\n",
      "98/98 [==============================] - 12s 127ms/step - loss: 4.0033 - coords_loss: 1.9868 - classes_loss: 0.0297\n",
      "Epoch 48/150\n",
      "98/98 [==============================] - 12s 125ms/step - loss: 3.9674 - coords_loss: 1.9689 - classes_loss: 0.0297\n",
      "Epoch 49/150\n",
      "98/98 [==============================] - 12s 127ms/step - loss: 3.9418 - coords_loss: 1.9562 - classes_loss: 0.0294\n",
      "Epoch 50/150\n",
      "98/98 [==============================] - 12s 121ms/step - loss: 3.9130 - coords_loss: 1.9419 - classes_loss: 0.0291\n",
      "Epoch 51/150\n",
      "98/98 [==============================] - 12s 121ms/step - loss: 3.8881 - coords_loss: 1.9295 - classes_loss: 0.0291\n",
      "Epoch 52/150\n",
      "98/98 [==============================] - 12s 120ms/step - loss: 3.8606 - coords_loss: 1.9159 - classes_loss: 0.0288\n",
      "Epoch 53/150\n",
      "98/98 [==============================] - 12s 120ms/step - loss: 3.8336 - coords_loss: 1.9024 - classes_loss: 0.0287\n",
      "Epoch 54/150\n",
      "98/98 [==============================] - 12s 126ms/step - loss: 3.8103 - coords_loss: 1.8908 - classes_loss: 0.0287\n",
      "Epoch 55/150\n",
      "98/98 [==============================] - 14s 140ms/step - loss: 3.7868 - coords_loss: 1.8792 - classes_loss: 0.0284\n",
      "Epoch 56/150\n",
      "98/98 [==============================] - 15s 148ms/step - loss: 3.7636 - coords_loss: 1.8677 - classes_loss: 0.0282\n",
      "Epoch 57/150\n",
      "98/98 [==============================] - 14s 145ms/step - loss: 3.7418 - coords_loss: 1.8569 - classes_loss: 0.0281\n",
      "Epoch 58/150\n",
      "98/98 [==============================] - 14s 146ms/step - loss: 3.7241 - coords_loss: 1.8479 - classes_loss: 0.0283\n",
      "Epoch 59/150\n",
      "98/98 [==============================] - 14s 141ms/step - loss: 3.7022 - coords_loss: 1.8372 - classes_loss: 0.0278\n",
      "Epoch 60/150\n",
      "98/98 [==============================] - 12s 123ms/step - loss: 3.6806 - coords_loss: 1.8264 - classes_loss: 0.0277\n",
      "Epoch 61/150\n",
      "98/98 [==============================] - 13s 128ms/step - loss: 3.6594 - coords_loss: 1.8159 - classes_loss: 0.0276\n",
      "Epoch 62/150\n",
      "98/98 [==============================] - 13s 130ms/step - loss: 3.6396 - coords_loss: 1.8061 - classes_loss: 0.0273\n",
      "Epoch 63/150\n",
      "98/98 [==============================] - 14s 140ms/step - loss: 3.6185 - coords_loss: 1.7956 - classes_loss: 0.0272\n",
      "Epoch 64/150\n",
      "98/98 [==============================] - 13s 134ms/step - loss: 3.5985 - coords_loss: 1.7857 - classes_loss: 0.0271\n",
      "Epoch 65/150\n",
      "98/98 [==============================] - 13s 137ms/step - loss: 3.5823 - coords_loss: 1.7777 - classes_loss: 0.0269\n",
      "Epoch 66/150\n",
      "98/98 [==============================] - 13s 132ms/step - loss: 3.5702 - coords_loss: 1.7717 - classes_loss: 0.0268\n",
      "Epoch 67/150\n",
      "98/98 [==============================] - 15s 152ms/step - loss: 3.5576 - coords_loss: 1.7655 - classes_loss: 0.0266\n",
      "Epoch 68/150\n",
      "98/98 [==============================] - 14s 142ms/step - loss: 3.5432 - coords_loss: 1.7583 - classes_loss: 0.0265\n",
      "Epoch 69/150\n",
      "98/98 [==============================] - 13s 132ms/step - loss: 3.5286 - coords_loss: 1.7510 - classes_loss: 0.0267\n",
      "Epoch 70/150\n",
      "98/98 [==============================] - 12s 121ms/step - loss: 3.5133 - coords_loss: 1.7435 - classes_loss: 0.0264\n",
      "Epoch 71/150\n",
      "98/98 [==============================] - 12s 120ms/step - loss: 3.4962 - coords_loss: 1.7349 - classes_loss: 0.0263\n",
      "Epoch 72/150\n",
      "98/98 [==============================] - 12s 120ms/step - loss: 3.4845 - coords_loss: 1.7292 - classes_loss: 0.0261\n",
      "Epoch 73/150\n",
      "98/98 [==============================] - 12s 120ms/step - loss: 3.4703 - coords_loss: 1.7222 - classes_loss: 0.0260\n",
      "Epoch 74/150\n",
      "98/98 [==============================] - 12s 124ms/step - loss: 3.4528 - coords_loss: 1.7135 - classes_loss: 0.0258\n",
      "Epoch 75/150\n",
      "98/98 [==============================] - 13s 130ms/step - loss: 3.4357 - coords_loss: 1.7049 - classes_loss: 0.0259\n",
      "Epoch 76/150\n",
      "98/98 [==============================] - 14s 143ms/step - loss: 3.4182 - coords_loss: 1.6962 - classes_loss: 0.0257\n",
      "Epoch 77/150\n",
      "98/98 [==============================] - 14s 139ms/step - loss: 3.4001 - coords_loss: 1.6873 - classes_loss: 0.0254\n",
      "Epoch 78/150\n",
      "98/98 [==============================] - 13s 131ms/step - loss: 3.3789 - coords_loss: 1.6768 - classes_loss: 0.0254\n",
      "Epoch 79/150\n",
      "98/98 [==============================] - 12s 127ms/step - loss: 3.3604 - coords_loss: 1.6675 - classes_loss: 0.0254\n",
      "Epoch 80/150\n",
      "98/98 [==============================] - 13s 128ms/step - loss: 3.3414 - coords_loss: 1.6581 - classes_loss: 0.0252\n",
      "Epoch 81/150\n",
      "98/98 [==============================] - 13s 132ms/step - loss: 3.3235 - coords_loss: 1.6492 - classes_loss: 0.0250\n",
      "Epoch 82/150\n",
      "98/98 [==============================] - 13s 128ms/step - loss: 3.3091 - coords_loss: 1.6420 - classes_loss: 0.0251\n",
      "Epoch 83/150\n",
      "98/98 [==============================] - 14s 142ms/step - loss: 3.2931 - coords_loss: 1.6341 - classes_loss: 0.0249\n",
      "Epoch 84/150\n",
      "98/98 [==============================] - 13s 131ms/step - loss: 3.2803 - coords_loss: 1.6276 - classes_loss: 0.0251\n",
      "Epoch 85/150\n",
      "98/98 [==============================] - 12s 121ms/step - loss: 3.2669 - coords_loss: 1.6211 - classes_loss: 0.0248\n",
      "Epoch 86/150\n",
      "98/98 [==============================] - 12s 121ms/step - loss: 3.2521 - coords_loss: 1.6138 - classes_loss: 0.0246\n",
      "Epoch 87/150\n",
      "98/98 [==============================] - 12s 120ms/step - loss: 3.2401 - coords_loss: 1.6078 - classes_loss: 0.0245\n",
      "Epoch 88/150\n",
      "98/98 [==============================] - 12s 122ms/step - loss: 3.2317 - coords_loss: 1.6036 - classes_loss: 0.0246\n",
      "Epoch 89/150\n",
      "98/98 [==============================] - 12s 120ms/step - loss: 3.2241 - coords_loss: 1.5998 - classes_loss: 0.0245\n",
      "Epoch 90/150\n",
      "98/98 [==============================] - 12s 120ms/step - loss: 3.2137 - coords_loss: 1.5948 - classes_loss: 0.0242\n",
      "Epoch 91/150\n",
      "98/98 [==============================] - 13s 132ms/step - loss: 3.2047 - coords_loss: 1.5902 - classes_loss: 0.0242\n",
      "Epoch 92/150\n",
      "98/98 [==============================] - 14s 138ms/step - loss: 3.1947 - coords_loss: 1.5853 - classes_loss: 0.0240\n",
      "Epoch 93/150\n",
      "98/98 [==============================] - 12s 120ms/step - loss: 3.1844 - coords_loss: 1.5802 - classes_loss: 0.0241\n",
      "Epoch 94/150\n",
      "98/98 [==============================] - 12s 121ms/step - loss: 3.1750 - coords_loss: 1.5755 - classes_loss: 0.0241\n",
      "Epoch 95/150\n",
      "98/98 [==============================] - 12s 120ms/step - loss: 3.1628 - coords_loss: 1.5695 - classes_loss: 0.0238\n",
      "Epoch 96/150\n",
      "98/98 [==============================] - 12s 119ms/step - loss: 3.1501 - coords_loss: 1.5631 - classes_loss: 0.0239\n",
      "Epoch 97/150\n",
      "98/98 [==============================] - 12s 120ms/step - loss: 3.1372 - coords_loss: 1.5567 - classes_loss: 0.0237\n",
      "Epoch 98/150\n",
      "98/98 [==============================] - 12s 120ms/step - loss: 3.1241 - coords_loss: 1.5502 - classes_loss: 0.0236\n",
      "Epoch 99/150\n",
      "98/98 [==============================] - 12s 120ms/step - loss: 3.1124 - coords_loss: 1.5444 - classes_loss: 0.0235\n",
      "Epoch 100/150\n",
      "98/98 [==============================] - 12s 119ms/step - loss: 3.1009 - coords_loss: 1.5387 - classes_loss: 0.0235\n",
      "Epoch 101/150\n",
      "98/98 [==============================] - 13s 129ms/step - loss: 3.0903 - coords_loss: 1.5334 - classes_loss: 0.0234\n",
      "Epoch 102/150\n",
      "98/98 [==============================] - 13s 128ms/step - loss: 3.0786 - coords_loss: 1.5276 - classes_loss: 0.0234\n",
      "Epoch 103/150\n",
      "98/98 [==============================] - 12s 126ms/step - loss: 3.0671 - coords_loss: 1.5219 - classes_loss: 0.0233\n",
      "Epoch 104/150\n",
      "98/98 [==============================] - 12s 125ms/step - loss: 3.0561 - coords_loss: 1.5165 - classes_loss: 0.0231\n",
      "Epoch 105/150\n",
      "98/98 [==============================] - 12s 125ms/step - loss: 3.0456 - coords_loss: 1.5113 - classes_loss: 0.0230\n",
      "Epoch 106/150\n",
      "98/98 [==============================] - 12s 126ms/step - loss: 3.0355 - coords_loss: 1.5062 - classes_loss: 0.0230\n",
      "Epoch 107/150\n",
      "98/98 [==============================] - 12s 127ms/step - loss: 3.0249 - coords_loss: 1.5009 - classes_loss: 0.0231\n",
      "Epoch 108/150\n",
      "98/98 [==============================] - 13s 128ms/step - loss: 3.0144 - coords_loss: 1.4958 - classes_loss: 0.0229\n",
      "Epoch 109/150\n",
      "98/98 [==============================] - 13s 128ms/step - loss: 3.0018 - coords_loss: 1.4895 - classes_loss: 0.0229\n",
      "Epoch 110/150\n",
      "98/98 [==============================] - 13s 130ms/step - loss: 2.9913 - coords_loss: 1.4843 - classes_loss: 0.0228\n",
      "Epoch 111/150\n",
      "98/98 [==============================] - 13s 128ms/step - loss: 2.9817 - coords_loss: 1.4795 - classes_loss: 0.0228\n",
      "Epoch 112/150\n",
      "98/98 [==============================] - 12s 126ms/step - loss: 2.9708 - coords_loss: 1.4741 - classes_loss: 0.0226\n",
      "Epoch 113/150\n",
      "98/98 [==============================] - 13s 131ms/step - loss: 2.9610 - coords_loss: 1.4692 - classes_loss: 0.0225\n",
      "Epoch 114/150\n",
      "98/98 [==============================] - 12s 126ms/step - loss: 2.9534 - coords_loss: 1.4655 - classes_loss: 0.0225\n",
      "Epoch 115/150\n",
      "98/98 [==============================] - 12s 126ms/step - loss: 2.9461 - coords_loss: 1.4618 - classes_loss: 0.0226\n",
      "Epoch 116/150\n",
      "98/98 [==============================] - 13s 136ms/step - loss: 2.9391 - coords_loss: 1.4584 - classes_loss: 0.0223\n",
      "Epoch 117/150\n",
      "98/98 [==============================] - 12s 124ms/step - loss: 2.9316 - coords_loss: 1.4547 - classes_loss: 0.0223\n",
      "Epoch 118/150\n",
      "98/98 [==============================] - 13s 128ms/step - loss: 2.9235 - coords_loss: 1.4507 - classes_loss: 0.0222\n",
      "Epoch 119/150\n",
      "98/98 [==============================] - 12s 121ms/step - loss: 2.9151 - coords_loss: 1.4465 - classes_loss: 0.0222\n",
      "Epoch 120/150\n",
      "98/98 [==============================] - 12s 121ms/step - loss: 2.9055 - coords_loss: 1.4417 - classes_loss: 0.0221\n",
      "Epoch 121/150\n",
      "98/98 [==============================] - 12s 120ms/step - loss: 2.8960 - coords_loss: 1.4370 - classes_loss: 0.0220\n",
      "Epoch 122/150\n",
      "98/98 [==============================] - 12s 121ms/step - loss: 2.8852 - coords_loss: 1.4316 - classes_loss: 0.0221\n",
      "Epoch 123/150\n",
      "98/98 [==============================] - 12s 121ms/step - loss: 2.8735 - coords_loss: 1.4258 - classes_loss: 0.0219\n",
      "Epoch 124/150\n",
      "98/98 [==============================] - 12s 121ms/step - loss: 2.8625 - coords_loss: 1.4203 - classes_loss: 0.0219\n",
      "Epoch 125/150\n",
      "98/98 [==============================] - 12s 121ms/step - loss: 2.8521 - coords_loss: 1.4151 - classes_loss: 0.0218\n",
      "Epoch 126/150\n",
      "98/98 [==============================] - 12s 122ms/step - loss: 2.8429 - coords_loss: 1.4106 - classes_loss: 0.0217\n",
      "Epoch 127/150\n"
     ]
    },
    {
     "name": "stdout",
     "output_type": "stream",
     "text": [
      "98/98 [==============================] - 12s 121ms/step - loss: 2.8345 - coords_loss: 1.4064 - classes_loss: 0.0217\n",
      "Epoch 128/150\n",
      "98/98 [==============================] - 12s 121ms/step - loss: 2.8270 - coords_loss: 1.4027 - classes_loss: 0.0217\n",
      "Epoch 129/150\n",
      "98/98 [==============================] - 12s 120ms/step - loss: 2.8199 - coords_loss: 1.3992 - classes_loss: 0.0216\n",
      "Epoch 130/150\n",
      "98/98 [==============================] - 12s 123ms/step - loss: 2.8131 - coords_loss: 1.3958 - classes_loss: 0.0215\n",
      "Epoch 131/150\n",
      "98/98 [==============================] - 12s 121ms/step - loss: 2.8068 - coords_loss: 1.3926 - classes_loss: 0.0215\n",
      "Epoch 132/150\n",
      "98/98 [==============================] - 12s 121ms/step - loss: 2.8012 - coords_loss: 1.3899 - classes_loss: 0.0214\n",
      "Epoch 133/150\n",
      "98/98 [==============================] - 12s 121ms/step - loss: 2.7960 - coords_loss: 1.3872 - classes_loss: 0.0215\n",
      "Epoch 134/150\n",
      "98/98 [==============================] - 12s 120ms/step - loss: 2.7902 - coords_loss: 1.3844 - classes_loss: 0.0213\n",
      "Epoch 135/150\n",
      "98/98 [==============================] - 12s 120ms/step - loss: 2.7854 - coords_loss: 1.3820 - classes_loss: 0.0214\n",
      "Epoch 136/150\n",
      "98/98 [==============================] - 12s 121ms/step - loss: 2.7806 - coords_loss: 1.3796 - classes_loss: 0.0213\n",
      "Epoch 137/150\n",
      "98/98 [==============================] - 12s 121ms/step - loss: 2.7755 - coords_loss: 1.3772 - classes_loss: 0.0212\n",
      "Epoch 138/150\n",
      "98/98 [==============================] - 12s 124ms/step - loss: 2.7702 - coords_loss: 1.3745 - classes_loss: 0.0212\n",
      "Epoch 139/150\n",
      "98/98 [==============================] - 12s 120ms/step - loss: 2.7640 - coords_loss: 1.3714 - classes_loss: 0.0211\n",
      "Epoch 140/150\n",
      "98/98 [==============================] - 13s 135ms/step - loss: 2.7597 - coords_loss: 1.3693 - classes_loss: 0.0210\n",
      "Epoch 141/150\n",
      "98/98 [==============================] - 15s 155ms/step - loss: 2.7554 - coords_loss: 1.3672 - classes_loss: 0.0210\n",
      "Epoch 142/150\n",
      "98/98 [==============================] - 14s 140ms/step - loss: 2.7511 - coords_loss: 1.3651 - classes_loss: 0.0210\n",
      "Epoch 143/150\n",
      "98/98 [==============================] - 12s 122ms/step - loss: 2.7467 - coords_loss: 1.3629 - classes_loss: 0.0208\n",
      "Epoch 144/150\n",
      "98/98 [==============================] - 12s 121ms/step - loss: 2.7427 - coords_loss: 1.3609 - classes_loss: 0.0208\n",
      "Epoch 145/150\n",
      "98/98 [==============================] - 12s 121ms/step - loss: 2.7392 - coords_loss: 1.3592 - classes_loss: 0.0208\n",
      "Epoch 146/150\n",
      "98/98 [==============================] - 12s 119ms/step - loss: 2.7357 - coords_loss: 1.3575 - classes_loss: 0.0208\n",
      "Epoch 147/150\n",
      "98/98 [==============================] - 12s 121ms/step - loss: 2.7316 - coords_loss: 1.3555 - classes_loss: 0.0206\n",
      "Epoch 148/150\n",
      "98/98 [==============================] - 12s 121ms/step - loss: 2.7285 - coords_loss: 1.3539 - classes_loss: 0.0206\n",
      "Epoch 149/150\n",
      "98/98 [==============================] - 12s 120ms/step - loss: 2.7252 - coords_loss: 1.3523 - classes_loss: 0.0207\n",
      "Epoch 150/150\n",
      "98/98 [==============================] - 12s 123ms/step - loss: 2.7205 - coords_loss: 1.3500 - classes_loss: 0.0206\n"
     ]
    },
    {
     "data": {
      "text/plain": [
       "<keras.callbacks.History at 0x2dc3cc361d0>"
      ]
     },
     "execution_count": 90,
     "metadata": {},
     "output_type": "execute_result"
    }
   ],
   "source": [
    " model.fit_generator(generator=train_datagen,\n",
    "                        epochs=150)"
   ]
  },
  {
   "cell_type": "code",
   "execution_count": 65,
   "metadata": {},
   "outputs": [
    {
     "ename": "NameError",
     "evalue": "name 'model' is not defined",
     "output_type": "error",
     "traceback": [
      "\u001b[1;31m---------------------------------------------------------------------------\u001b[0m",
      "\u001b[1;31mNameError\u001b[0m                                 Traceback (most recent call last)",
      "\u001b[1;32m<ipython-input-65-01ac317226df>\u001b[0m in \u001b[0;36m<module>\u001b[1;34m()\u001b[0m\n\u001b[1;32m----> 1\u001b[1;33m \u001b[0mmodel\u001b[0m\u001b[1;33m.\u001b[0m\u001b[0msave_weights\u001b[0m\u001b[1;33m(\u001b[0m\u001b[1;34m\"model-0.51.h5\"\u001b[0m\u001b[1;33m)\u001b[0m\u001b[1;33m\u001b[0m\u001b[0m\n\u001b[0m",
      "\u001b[1;31mNameError\u001b[0m: name 'model' is not defined"
     ]
    }
   ],
   "source": [
    "model.save_weights(\"model-0.51.h5\")"
   ]
  },
  {
   "cell_type": "code",
   "execution_count": null,
   "metadata": {
    "collapsed": true
   },
   "outputs": [],
   "source": []
  },
  {
   "cell_type": "markdown",
   "metadata": {},
   "source": [
    "# TB classification using SVM"
   ]
  },
  {
   "cell_type": "code",
   "execution_count": 30,
   "metadata": {
    "collapsed": true
   },
   "outputs": [],
   "source": [
    "import numpy as np\n",
    "import pandas as pd\n",
    "import matplotlib.pyplot as plt\n",
    "import cv2\n",
    "\n",
    "import os\n"
   ]
  },
  {
   "cell_type": "code",
   "execution_count": null,
   "metadata": {
    "collapsed": true
   },
   "outputs": [],
   "source": []
  },
  {
   "cell_type": "code",
   "execution_count": 31,
   "metadata": {
    "collapsed": true
   },
   "outputs": [],
   "source": [
    "dataset = \"./tb images/\"\n",
    "categories = [\"intestinal\", \"peritoneal\",\"mesenteric\"]"
   ]
  },
  {
   "cell_type": "code",
   "execution_count": 32,
   "metadata": {
    "collapsed": true
   },
   "outputs": [],
   "source": [
    "training_data = []\n",
    "\n",
    "def create_training_data():\n",
    "    for category in categories:  \n",
    "\n",
    "        path = os.path.join(dataset,category) \n",
    "        class_num = categories.index(category)  \n",
    "        \n",
    "        for img in os.listdir(path): \n",
    "            try:\n",
    "                img_array = cv2.imread(os.path.join(path,img) ,cv2.IMREAD_GRAYSCALE) \n",
    "                new_array = cv2.resize(img_array, (IMG_SIZE, IMG_SIZE))  \n",
    "                #print(np.array(new_array).shape)\n",
    "                training_data.append([new_array, class_num]) \n",
    "            except Exception as e:  \n",
    "                pass\n",
    "create_training_data()"
   ]
  },
  {
   "cell_type": "code",
   "execution_count": 32,
   "metadata": {
    "collapsed": true
   },
   "outputs": [],
   "source": [
    "# training_data"
   ]
  },
  {
   "cell_type": "code",
   "execution_count": 33,
   "metadata": {
    "collapsed": true
   },
   "outputs": [],
   "source": [
    "import random\n",
    "random.shuffle(training_data)\n",
    "IMG_SIZE=28"
   ]
  },
  {
   "cell_type": "code",
   "execution_count": 34,
   "metadata": {
    "collapsed": true
   },
   "outputs": [],
   "source": [
    "X = []\n",
    "y = []\n",
    "for data in training_data:\n",
    "    X.append(data[0])\n",
    "    y.append(data[1])\n",
    "# print(y)\n",
    "# print(X[0].reshape(-1, IMG_SIZE, IMG_SIZE, 1))\n",
    "X = np.array(X)\n",
    "X=X.reshape(-1, IMG_SIZE, IMG_SIZE, 1)\n",
    "Y=np.array(y)"
   ]
  },
  {
   "cell_type": "code",
   "execution_count": 35,
   "metadata": {},
   "outputs": [],
   "source": [
    "\n",
    "X = X/255.0\n",
    "shape_of_x=X.shape\n",
    "X=X.reshape(shape_of_x[0],shape_of_x[1],shape_of_x[2])\n",
    "Y=Y.reshape(-1,1)\n"
   ]
  },
  {
   "cell_type": "code",
   "execution_count": 36,
   "metadata": {
    "collapsed": true
   },
   "outputs": [],
   "source": [
    "X=X.reshape(shape_of_x[0],shape_of_x[1]*shape_of_x[2])"
   ]
  },
  {
   "cell_type": "code",
   "execution_count": 37,
   "metadata": {},
   "outputs": [
    {
     "data": {
      "text/plain": [
       "SVC(C=1, cache_size=200, class_weight=None, coef0=0.0,\n",
       "  decision_function_shape='ovr', degree=3, gamma=0.01, kernel='rbf',\n",
       "  max_iter=-1, probability=False, random_state=0, shrinking=True,\n",
       "  tol=0.001, verbose=False)"
      ]
     },
     "execution_count": 37,
     "metadata": {},
     "output_type": "execute_result"
    }
   ],
   "source": [
    "from sklearn import datasets \n",
    "from sklearn.metrics import confusion_matrix \n",
    "from sklearn.model_selection import train_test_split \n",
    "from sklearn.svm import SVC \n",
    "svm = SVC(kernel='rbf', random_state=0, gamma=.01, C=1)\n",
    "svm.fit(X,y)"
   ]
  },
  {
   "cell_type": "code",
   "execution_count": 38,
   "metadata": {
    "collapsed": true
   },
   "outputs": [],
   "source": [
    "#testimage=\"tb images/intestinal/anomaly1.jpeg\"\n",
    "testimagae=\"./tb images/Anomaly/anomaly33.jpeg\""
   ]
  },
  {
   "cell_type": "code",
   "execution_count": 39,
   "metadata": {},
   "outputs": [],
   "source": [
    "img_array = cv2.imread(testimage ,cv2.IMREAD_GRAYSCALE) \n",
    "new_array = cv2.resize(img_array, (IMG_SIZE, IMG_SIZE))  \n",
    "new_array = new_array/255.0\n",
    "test=new_array.reshape(1,new_array.shape[0]*new_array.shape[1])\n"
   ]
  },
  {
   "cell_type": "code",
   "execution_count": 40,
   "metadata": {},
   "outputs": [
    {
     "name": "stdout",
     "output_type": "stream",
     "text": [
      "the type of tb is -> intestinal\n"
     ]
    }
   ],
   "source": [
    "if svm.predict(test)==0:\n",
    "    print(\"the type of tb is -> intestinal\")\n",
    "elif svm.predict(test)==1:\n",
    "    print(\" the type of tb is -> peritenal\")\n",
    "else:\n",
    "    print(\"the type of tb is -> messenteric\")"
   ]
  },
  {
   "cell_type": "markdown",
   "metadata": {
    "collapsed": true
   },
   "source": [
    "# Accuracy\n"
   ]
  },
  {
   "cell_type": "code",
   "execution_count": 26,
   "metadata": {
    "collapsed": true
   },
   "outputs": [],
   "source": [
    "from sklearn.metrics import accuracy_score"
   ]
  },
  {
   "cell_type": "code",
   "execution_count": 27,
   "metadata": {
    "collapsed": true
   },
   "outputs": [],
   "source": [
    "y_pred=svm.predict(X)\n"
   ]
  },
  {
   "cell_type": "code",
   "execution_count": 28,
   "metadata": {
    "collapsed": true
   },
   "outputs": [],
   "source": [
    "y_true=y"
   ]
  },
  {
   "cell_type": "code",
   "execution_count": 29,
   "metadata": {},
   "outputs": [
    {
     "data": {
      "text/plain": [
       "'100.0%'"
      ]
     },
     "execution_count": 29,
     "metadata": {},
     "output_type": "execute_result"
    }
   ],
   "source": [
    "str(accuracy_score(y_true, y_pred)*100)+\"%\""
   ]
  },
  {
   "cell_type": "markdown",
   "metadata": {},
   "source": [
    "# Confusion matrix"
   ]
  },
  {
   "cell_type": "code",
   "execution_count": 41,
   "metadata": {
    "collapsed": true
   },
   "outputs": [],
   "source": [
    "from sklearn.metrics import confusion_matrix"
   ]
  },
  {
   "cell_type": "code",
   "execution_count": 43,
   "metadata": {},
   "outputs": [
    {
     "data": {
      "text/plain": [
       "array([[3, 0],\n",
       "       [0, 3]], dtype=int64)"
      ]
     },
     "execution_count": 43,
     "metadata": {},
     "output_type": "execute_result"
    }
   ],
   "source": [
    "confusion_matrix(y_true,y_pred)"
   ]
  },
  {
   "cell_type": "code",
   "execution_count": null,
   "metadata": {
    "collapsed": true
   },
   "outputs": [],
   "source": []
  }
 ],
 "metadata": {
  "kernelspec": {
   "display_name": "Python 3",
   "language": "python",
   "name": "python3"
  },
  "language_info": {
   "codemirror_mode": {
    "name": "ipython",
    "version": 3
   },
   "file_extension": ".py",
   "mimetype": "text/x-python",
   "name": "python",
   "nbconvert_exporter": "python",
   "pygments_lexer": "ipython3",
   "version": "3.5.4"
  }
 },
 "nbformat": 4,
 "nbformat_minor": 2
}
